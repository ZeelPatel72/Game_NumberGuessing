{
 "cells": [
  {
   "cell_type": "code",
   "execution_count": null,
   "id": "3d068cde",
   "metadata": {},
   "outputs": [],
   "source": [
    "# A simple command line number guessing game:\n",
    "\n",
    "# Rules:\n",
    "\n",
    "# 1. The computer will think of 3 digit number.\n",
    "# 2. You will then guess a 3 digit number.\n",
    "# 3. The computer will then give back clues, the possible clues are:\n",
    "#\n",
    "#     Close: You've guessed a correct number but in the wrong position\n",
    "#     Match: You've guessed a correct number in the correct position\n",
    "#     Nope: You haven't guess any of the numbers correctly\n",
    "#\n",
    "# 4. Based on these clues you will guess again until you break the code with a\n",
    "#    perfect match!"
   ]
  },
  {
   "cell_type": "code",
   "execution_count": 1,
   "id": "9ca97533",
   "metadata": {},
   "outputs": [],
   "source": [
    "from random import randint"
   ]
  },
  {
   "cell_type": "code",
   "execution_count": 2,
   "id": "b9c74399",
   "metadata": {},
   "outputs": [],
   "source": [
    "    x = randint(100,999)\n"
   ]
  },
  {
   "cell_type": "code",
   "execution_count": 3,
   "id": "9cc38c73",
   "metadata": {},
   "outputs": [
    {
     "name": "stdout",
     "output_type": "stream",
     "text": [
      "Enter a 3 digit number please:111\n",
      "Nope\n",
      "Enter a 3 digit number please:222\n",
      "Nope\n",
      "Enter a 3 digit number please:333\n",
      "Match\n",
      "Enter a 3 digit number please:444\n",
      "Match\n",
      "Enter a 3 digit number please:555\n",
      "Nope\n",
      "Enter a 3 digit number please:666\n",
      "Nope\n",
      "Enter a 3 digit number please:777\n",
      "Nope\n",
      "Enter a 3 digit number please:888\n",
      "Nope\n",
      "Enter a 3 digit number please:999\n",
      "Nope\n",
      "Enter a 3 digit number please:343\n",
      "Match\n",
      "Enter a 3 digit number please:434\n",
      "Match\n",
      "Enter a 3 digit number please:344\n",
      "you got it\n"
     ]
    }
   ],
   "source": [
    "    point = 0;\n",
    "    match = 0;\n",
    "    close = 0;\n",
    "    notclose = 0\n",
    "    while(point == 0):\n",
    "        y = input(\"Enter a 3 digit number please:\")\n",
    "        if int(y) < 100:\n",
    "            print(\"Not valid input\")\n",
    "        elif x == int(y):\n",
    "            print('you got it')\n",
    "            break\n",
    "#             point = 1\n",
    "        else:\n",
    "            i= []\n",
    "            j= list(y)\n",
    "            sa = str(x)\n",
    "            for char in sa:\n",
    "                i.append(int(char))\n",
    "            k = 0\n",
    "            for k in range(3):\n",
    "                if(i[k] == int(j[k])):\n",
    "                    match = 1\n",
    "                elif int(j[k]) in set(i):\n",
    "                    close = 1\n",
    "                else:\n",
    "                    notclose = 1\n",
    "        if  match == 1:\n",
    "            print(\"Match\")\n",
    "            match = 0\n",
    "            close = 0\n",
    "            notclose = 0\n",
    "            \n",
    "        elif close == 1:\n",
    "            print(\"Close\")\n",
    "            match = 0\n",
    "            close = 0\n",
    "            notclose = 0\n",
    "        elif notclose == 1:\n",
    "            print(\"Nope\")\n",
    "            match = 0\n",
    "            close = 0\n",
    "            notclose = 0"
   ]
  },
  {
   "cell_type": "code",
   "execution_count": null,
   "id": "92fea846",
   "metadata": {},
   "outputs": [],
   "source": []
  }
 ],
 "metadata": {
  "kernelspec": {
   "display_name": "Python 3",
   "language": "python",
   "name": "python3"
  },
  "language_info": {
   "codemirror_mode": {
    "name": "ipython",
    "version": 3
   },
   "file_extension": ".py",
   "mimetype": "text/x-python",
   "name": "python",
   "nbconvert_exporter": "python",
   "pygments_lexer": "ipython3",
   "version": "3.9.4"
  }
 },
 "nbformat": 4,
 "nbformat_minor": 5
}
